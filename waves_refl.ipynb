{
 "cells": [
  {
   "cell_type": "markdown",
   "metadata": {},
   "source": [
    "# Analysis of reflectometry data\n",
    "Searching for MHD waves"
   ]
  },
  {
   "cell_type": "code",
   "execution_count": 1,
   "metadata": {},
   "outputs": [],
   "source": [
    "import math\n",
    "from scipy import io\n",
    "import scipy.signal\n",
    "import matplotlib.pyplot as plt\n",
    "import numpy as np\n",
    "import scipy.fftpack\n",
    "import scipy.integrate\n",
    "import pandas as pd\n",
    "from IPython.display import display\n",
    "import time\n",
    "import matplotlib.colors as colors\n",
    "import random\n",
    "import glob\n",
    "import os\n",
    "from matplotlib import animation\n",
    "from IPython.display import HTML\n",
    "import copy"
   ]
  },
  {
   "cell_type": "markdown",
   "metadata": {},
   "source": [
    "First, we load our signal."
   ]
  },
  {
   "cell_type": "code",
   "execution_count": 2,
   "metadata": {},
   "outputs": [],
   "source": [
    "#%%script false\n",
    "path ='C:\\\\Users\\\\Marci\\\\Documents\\\\transientwaves\\\\imputdata\\\\in\\\\'#pc\n",
    "#path ='C:\\\\Users\\\\win10\\\\Downloads\\\\transient-waves\\\\inputdata\\\\in\\\\'#laptop\n",
    "\n",
    "#for filename in glob.glob(os.path.join(path, '*.sav')):\n",
    "#    sav1 = io.readsav(filename, python_dict = True)\n",
    "#    print('Loaded: '+filename)\n",
    "#    print('\\n')\n",
    "    \n",
    "for filename in glob.glob(os.path.join(path, '*.mat')):\n",
    "    sav1 = io.loadmat(filename)\n",
    "    print('Loaded: '+filename)\n",
    "    print('\\n')"
   ]
  },
  {
   "cell_type": "code",
   "execution_count": 3,
   "metadata": {
    "scrolled": true
   },
   "outputs": [
    {
     "ename": "NameError",
     "evalue": "name 'sav1' is not defined",
     "output_type": "error",
     "traceback": [
      "\u001b[1;31m---------------------------------------------------------------------------\u001b[0m",
      "\u001b[1;31mNameError\u001b[0m                                 Traceback (most recent call last)",
      "\u001b[1;32m<ipython-input-3-dc35ecaa5d3b>\u001b[0m in \u001b[0;36m<module>\u001b[1;34m()\u001b[0m\n\u001b[1;32m----> 1\u001b[1;33m \u001b[0mprint\u001b[0m\u001b[1;33m(\u001b[0m\u001b[0msav1\u001b[0m\u001b[1;33m)\u001b[0m\u001b[1;33m\u001b[0m\u001b[0m\n\u001b[0m",
      "\u001b[1;31mNameError\u001b[0m: name 'sav1' is not defined"
     ]
    }
   ],
   "source": [
    "print(sav1)"
   ]
  },
  {
   "cell_type": "code",
   "execution_count": null,
   "metadata": {
    "scrolled": true
   },
   "outputs": [],
   "source": [
    "#%%script false\n",
    "#print(sav1)\n",
    "rho=np.array(sav1['rho']).T\n",
    "t_rho=np.array(sav1['t_rho'])#\n",
    "ne=np.array(sav1['ne'])\n",
    "t_ne=np.array(sav1['tne'])\n",
    "x=np.array(sav1['tne'][0])\n",
    "#print(\"\\n\", s)\n",
    "#print(\"\\n\", sav1['channels'][shot_i])\n",
    "shot='AUGD '+ '32335' + ' FRS'  #os.path.basename(filename)[:4]+' '+os.path.basename(filename)[5:10]+', '+str(sav1['channels'][shot_i])[2:-1]#sxr_name#\n",
    "print(\"\\n\",shot)"
   ]
  },
  {
   "cell_type": "markdown",
   "metadata": {},
   "source": [
    "**main variables**\n",
    "<br> nyquist - The Nyquist frequency of the signal - biggest recommended calculation range\n",
    "<br> frangemax - x axis length of Fourier-transform, note, that this does not affect Fourier calculation\n",
    "<br> \n",
    "<br> samples - sample points of the first graph\n",
    "<br> s_rate - sample rate (Hz)"
   ]
  },
  {
   "cell_type": "code",
   "execution_count": null,
   "metadata": {},
   "outputs": [],
   "source": [
    "#%%script false\n",
    "#s = s.astype(float)\n",
    "#x = x.astype(float)\n",
    "samples=t_ne.size\n",
    "channels = int(ne.size/samples)\n",
    "t=max(x)-min(x)\n",
    "print(min(x))\n",
    "print(max(x))\n",
    "nyquist=samples/2/t\n",
    "frangemax=nyquist#250000#\n",
    "xf=np.linspace(0.0, frangemax, int(frangemax*t+1))\n",
    "s_rate=x.size/t\n",
    "print(nyquist)\n",
    "print(samples)\n",
    "view=0"
   ]
  },
  {
   "cell_type": "markdown",
   "metadata": {},
   "source": [
    "The widget below controls the wisible range of the chart under it. Note that this is only for visualisation, the program calculates with the whole 0 - t range. The zooming is exponential. Value 0 displays the whole range."
   ]
  },
  {
   "cell_type": "code",
   "execution_count": null,
   "metadata": {
    "scrolled": false
   },
   "outputs": [],
   "source": [
    "#%%script false\n",
    "plt.figure(figsize=(14,5))\n",
    "plt.title(shot+' szonda jele')\n",
    "plt.plot(x,'.-')\n",
    "#yaxismax=1/2**(view.value/12)\n",
    "#plt.xlim(min(x),max(x)-(max(x)-min(x))*((view/100.4)**0.6))\n",
    "#plt.ylabel('radiális mágneses tér változás (T/s)')\n",
    "#plt.xlabel('idő (s)')\n",
    "#plt.savefig(shot+' in.pdf')\n",
    "plt.show()\n",
    "\n",
    "print(\"\\n\",shot)"
   ]
  },
  {
   "cell_type": "markdown",
   "metadata": {},
   "source": [
    "The script provided at   *augtwiki/bin/view/Reflectometry/Read*   to load reflectometries"
   ]
  },
  {
   "cell_type": "code",
   "execution_count": null,
   "metadata": {},
   "outputs": [],
   "source": [
    "##Read the data\n",
    "print(rho.shape)\n",
    "print(ne.shape)\n",
    "\n",
    "plt.figure(figsize=(8,6))\n",
    "plt.plot(rho[2],ne[2],'.-')#.data[1000,:]\n",
    "#plt.title('%s @ t=%3.2fs'%(nl.description, time[1000]))\n",
    "#plt.ylabel(nl.unit)\n",
    "#plt.xlabel('R [%s]' %(rl.units))\n",
    "plt.show()\n",
    "\n",
    "fig = plt.figure(figsize=(13,8))\n",
    "ax = plt.axes(xlim=(np.min(rho), np.max(rho)), ylim=(np.min(ne), np.max(ne)))\n",
    "line, = plt.plot([], [], lw=3)\n",
    "\n",
    "def init():\n",
    "    line.set_data([], [])\n",
    "    return line,\n",
    "def animate(i):\n",
    "    line.set_data(rho[i],ne[i])\n",
    "    return line,\n",
    "\n",
    "anim = animation.FuncAnimation(fig, animate, init_func=init,\n",
    "                               frames=400, interval=100, repeat_delay=1000, repeat=True, blit=True)\n",
    "\n",
    "# anim.save('FRS_profiles.gif', writer='imagemagick')\n",
    "#https://www.wikihow.com/Install-FFmpeg-on-Windows\n",
    "#https://stackoverflow.com/questions/20137792/using-ffmpeg-and-ipython"
   ]
  },
  {
   "cell_type": "code",
   "execution_count": null,
   "metadata": {},
   "outputs": [],
   "source": [
    "from matplotlib.animation import FFMpegWriter\n",
    "writer = FFMpegWriter(fps=15, metadata=dict(artist='Me'), bitrate=1800)\n",
    "anim.save(\"FRS1.mp4\", writer=writer)"
   ]
  },
  {
   "cell_type": "code",
   "execution_count": null,
   "metadata": {},
   "outputs": [],
   "source": [
    "HTML(anim.to_html5_video())"
   ]
  },
  {
   "cell_type": "code",
   "execution_count": null,
   "metadata": {
    "scrolled": false
   },
   "outputs": [],
   "source": [
    "#ne2=np.transpose(ne)\n",
    "plt.figure(figsize=(10,5))\n",
    "plt.imshow(ne.T,aspect='auto',cmap='plasma', extent=[min(x),max(x),0,100])\n",
    "plt.title(shot+' szonda jele')\n",
    "plt.xlabel('Idő (ms)')\n",
    "plt.ylabel('Adatpont')\n",
    "cax = plt.axes([0.92, 0.15, 0.03, 0.7])\n",
    "plt.colorbar(cax=cax).set_label('')\n",
    "#plt.subplots_adjust(right=0.95)\n",
    "#plt.savefig(shot+' fullprofile.pdf')\n",
    "plt.show()\n",
    "\n",
    "plt.figure(figsize=(10,5))\n",
    "plt.plot(ne[200,:],'.-')\n",
    "plt.title(shot+' szonda jele')\n",
    "plt.ylabel('Sűrűség')\n",
    "plt.xlabel('Radiális távolság')\n",
    "#plt.savefig(shot+' profile 200.pdf')\n",
    "plt.show()\n",
    "\n",
    "plt.figure(figsize=(10,5))\n",
    "plt.plot(x,ne[:,30],'.-')\n",
    "plt.title(shot+' szonda jele')\n",
    "plt.xlabel('Idő (ms)')\n",
    "plt.ylabel('Sűrűség')\n",
    "#plt.savefig(shot+' at freq 30.pdf')\n",
    "plt.show()\n",
    "\n",
    "plt.figure(figsize=(10,5))\n",
    "plt.plot(x,rho[:,30],'.-')\n",
    "plt.title(shot+' szonda jele')\n",
    "plt.xlabel('Idő (ms)')\n",
    "plt.ylabel('Radiális távolság')\n",
    "#plt.savefig(shot+' at freq 30.pdf')\n",
    "plt.show()"
   ]
  },
  {
   "cell_type": "markdown",
   "metadata": {},
   "source": [
    "## Short-time Fourier transform\n",
    "\n",
    "We slice the signal up, then from each slice, we substract its average and multiply it with a gaussian window."
   ]
  },
  {
   "cell_type": "code",
   "execution_count": null,
   "metadata": {},
   "outputs": [],
   "source": [
    "win_r = 500 #1000\n",
    "d_win=5#random.randint(200,300)\n",
    "std=45 #150\n",
    "win_base = scipy.signal.gaussian(2*win_r+1, std=std)#np.wining(2*win_r+1)\n",
    "\n",
    "plt.plot(win_base,\".-\")\n",
    "plt.title('Hann window')\n",
    "plt.xlabel('sample no.')\n",
    "plt.ylabel('Hann value')\n",
    "plt.show()"
   ]
  },
  {
   "cell_type": "code",
   "execution_count": null,
   "metadata": {
    "scrolled": false
   },
   "outputs": [],
   "source": [
    "target_rho = 0.8\n",
    "s = np.zeros(samples)\n",
    "x_plain = copy.deepcopy(x)\n",
    "\n",
    "#interpolation (selecting ne-s with the closest rho)\n",
    "for i in range(samples):\n",
    "    got_h=0\n",
    "    for j in range(channels):\n",
    "        if got_h == 0:\n",
    "            if rho[i,j] < target_rho:\n",
    "                s[i]=ne[i,j]\n",
    "                got_h=1\n",
    "    if got_h == 0:\n",
    "        s[i]= float('nan')\n",
    "        x_plain[i] = float('nan')\n",
    "\n",
    "s_plain = copy.deepcopy(s)"
   ]
  },
  {
   "cell_type": "code",
   "execution_count": null,
   "metadata": {},
   "outputs": [],
   "source": [
    "#interpolation of NaN data from existing signal points\n",
    "x_plain2 = [i for i in x_plain if (math.isnan(i) != True)]\n",
    "s_plain2 = [i for i in s_plain if (math.isnan(i) != True)]\n",
    "#print(x_plain2)\n",
    "\n",
    "f = scipy.interpolate.interp1d(x_plain2,s_plain2)\n",
    "s = f(x)"
   ]
  },
  {
   "cell_type": "code",
   "execution_count": null,
   "metadata": {},
   "outputs": [],
   "source": [
    "%%script false\n",
    "#extrapolation of NaN data from end of profile\n",
    "fit_i = 0\n",
    "for i in range(samples):\n",
    "    if math.isnan(s[i]):\n",
    "        if target_rho > rho[i,0]:\n",
    "            fit = np.polyfit(rho[i,0:2],ne[i,0:2],2)\n",
    "            fit_i = i\n",
    "        if target_rho < rho[i,-1]:\n",
    "            fit = np.polyfit(rho[i,-4:-1],ne[i,-4:-1],1)\n",
    "            fit_i = i\n",
    "        p = np.poly1d(fit)\n",
    "        s[i] = p(target_rho)\n",
    "\n",
    "print(s_plain)\n",
    "print(s)\n",
    "\n",
    "p = np.poly1d(fit)\n",
    "xp = np.linspace(0, 1, 100)\n",
    "\n",
    "plt.figure(figsize=(8,6))\n",
    "plt.plot(rho[fit_i],ne[fit_i],'.-',xp,p(xp),'--')\n",
    "#plt.title('%s @ t=%3.2fs'%(nl.description, time[1000]))\n",
    "#plt.ylabel(nl.unit)\n",
    "#plt.xlabel('R [%s]' %(rl.units))\n",
    "plt.show()\n",
    "print(fit_i)\n",
    "\n",
    "#correcting negative values\n",
    "n = 0\n",
    "for i in range(samples):\n",
    "    if s[i]<= 0:\n",
    "        fit = np.polyfit(rho[i,-10:-1],ne[i,-10:-1],1)\n",
    "        p = np.poly1d(fit)\n",
    "        s[i]=p(target_rho)\n",
    "        if  n < 5:\n",
    "            xp = np.linspace(0, 1, 100)\n",
    "            plt.figure(figsize=(8,6))\n",
    "            plt.plot(rho[i],ne[i],'.-',xp,p(xp),'--')\n",
    "            plt.title(i)\n",
    "            plt.show()\n",
    "            n += 1"
   ]
  },
  {
   "cell_type": "code",
   "execution_count": null,
   "metadata": {},
   "outputs": [],
   "source": [
    "plt.figure(figsize=(16,6))\n",
    "plt.plot(x,s,'.-',x,s_plain,'.')\n",
    "plt.title('')\n",
    "#plt.ylabel(nl.unit)\n",
    "#plt.xlabel('R [%s]' %(rl.units))\n",
    "plt.show()\n",
    "#print(fit_i)"
   ]
  },
  {
   "cell_type": "code",
   "execution_count": null,
   "metadata": {
    "scrolled": false
   },
   "outputs": [],
   "source": [
    "z_padded_s = np.zeros (samples+2*win_r)\n",
    "z_padded_s[win_r:-win_r] = s\n",
    "z_padded_s[0:win_r]=np.average(z_padded_s[win_r+1:2*win_r])\n",
    "z_padded_s[-win_r:]=np.average(z_padded_s[-2*win_r:-win_r-1])\n",
    "x_win=np.linspace(0.0, t+(2*win_r/s_rate), samples+2*win_r)\n",
    "\n",
    "plt.figure(figsize=(13,5))\n",
    "plt.plot(z_padded_s,\"-\",linewidth = 2)#x_win,idő (s),max(x_win)\n",
    "plt.xlim((0,samples+2*win_r))\n",
    "plt.title('A kiegészített jel')\n",
    "plt.xlabel('Adatpont')\n",
    "plt.ylabel('Amplitúdó')\n",
    "plt.savefig('sxr2_p.pdf')\n",
    "plt.show()\n",
    "\n",
    "\n",
    "win = np.zeros((int(samples/d_win+1), 2*win_r+1))\n",
    "for i in range(int(samples/d_win+1)):\n",
    "    win [i]=win_base\n",
    "\n",
    "plt.figure(figsize=(10,5))\n",
    "plt.imshow(win,aspect='auto')\n",
    "plt.title('Sliding Hann window')\n",
    "plt.xlabel('sample no')\n",
    "plt.ylabel('sliding value')\n",
    "#plt.subplots_adjust(right=0.95)\n",
    "cax = plt.axes([0.8, 0.15, 0.03, 0.5])\n",
    "plt.colorbar(cax=cax).set_label('Signal value')\n",
    "plt.show()\n",
    "\n",
    "z_win = np.zeros((int(samples/d_win+0.9), win_r*2+1))\n",
    "for i in range(int(samples/d_win+0.9)):\n",
    "    z_win[i] = win[i] * (z_padded_s [d_win*i:d_win*i+win_r+win_r+1]-np.average(z_padded_s [d_win*i:d_win*i+win_r+win_r+1]))\n",
    "    #z_win[i] = win[i] * (z_padded_s [d_win*i:d_win*i+win_r+win_r+1])\n",
    "\n",
    "plt.figure(figsize=(9,9))\n",
    "plt.imshow(z_win,aspect='auto',cmap='bwr')#, extent=(min(x)*s_rate/d_win,max(x)*s_rate/d_win,max(x)*s_rate,min(x)*s_rate)\n",
    "plt.title('Gauss ablak + eredeti jel')\n",
    "plt.xlabel('Adatpont')\n",
    "plt.ylabel('Ablak elcsúsztatása')\n",
    "plt.subplots_adjust(right=0.88)\n",
    "cax = plt.axes([0.90, 0.23, 0.03, 0.54])\n",
    "plt.colorbar(cax=cax).set_label('Amplitúdó')\n",
    "plt.savefig('z_win.pdf')\n",
    "plt.show()\n",
    "\n",
    "z_win_fft = np.zeros((int(samples/d_win+0.9), win_r+1))\n",
    "for i in range(int(samples/d_win+0.9)):\n",
    "    z_win_fft[i] = np.abs(scipy.fftpack.fft(z_win[i]))[:win_r+1]  \n",
    "t1=time.time()\n",
    "\n",
    "print(z_win_fft.min()**2)\n",
    "print(z_win_fft.max()**2)\n",
    "print(std)\n",
    "\n",
    "z_win_fft_sq = (z_win_fft.T)**2\n",
    "print(z_win_fft.shape)\n",
    "print(z_win_fft_sq.shape)"
   ]
  },
  {
   "cell_type": "markdown",
   "metadata": {},
   "source": [
    "We can display the calculated STFT."
   ]
  },
  {
   "cell_type": "code",
   "execution_count": null,
   "metadata": {},
   "outputs": [],
   "source": [
    "##### %%script false\n",
    "colornorm=colors.LogNorm(vmin=z_win_fft_sq.min()*10000, vmax=z_win_fft_sq.max()/1)\n",
    "logax = np.linspace(int(np.log10(z_win_fft_sq.min())),int(np.log10(z_win_fft_sq.max())),int(np.log10(z_win_fft_sq.max()))-int(np.log10(z_win_fft_sq.min()))+1)\n",
    "logax = 10**logax\n",
    "fig, ax = plt.subplots(figsize=(10,5))\n",
    "#extent=[0,t-(2*hann_r/s_rate),0,frangemax/t],\n",
    "#plt.figure(figsize=(15,10))\n",
    "#ax.plot(x,np.abs(full_f),color='g',linewidth=3,linestyle='dashed',alpha=0.6)#img = ax.\n",
    "img = plt.imshow(z_win_fft_sq,cmap='plasma',  aspect='auto', extent=[min(x),max(x),frangemax/1000,0], norm=colornorm)#interpolation='gaussian',*30000000/4\n",
    "plt.title(shot+' szonda saját felüláteresztős szűrt STFT-je')\n",
    "plt.ylabel('Frekvencia (kHz)')\n",
    "plt.xlabel('idő (s)')#('time (s)')\n",
    "#plt.xlim(0.642,0.658)\n",
    "#plt.ylim(90,30)\n",
    "plt.subplots_adjust(right=0.90)\n",
    "plt.gca().invert_yaxis()\n",
    "cbar=plt.colorbar(img,cax=plt.axes([0.91, 0.2, 0.02, 0.6]),ticks=None)\n",
    "cbar.set_label('Fourier-amplitúdó (J)')\n",
    "#plt.axis([2.13,2.15,min(s),20000])\n",
    "#cbar.set_ticks(logax)\n",
    "#plt.savefig(shot+' stft.pdf')#34924_40\n",
    "plt.show()"
   ]
  },
  {
   "cell_type": "code",
   "execution_count": null,
   "metadata": {},
   "outputs": [],
   "source": [
    "#Finding the ridge\n",
    "#%%script false\n",
    "#ridge_no = 1\n",
    "print(samples/d_win)\n",
    "\n",
    "print(s_rate-0.9)\n",
    "print(nyquist/((2*win_r+1)/s_rate-0.9))\n",
    "ridge_d=2000#50#\n",
    "ridge_d2=800\n",
    "ridge_start=4000#2#   #start frequency for following the ridge\n",
    "ridge = np.zeros(int(samples/d_win+0.9))\n",
    "ridge_h = np.zeros(int(samples/d_win+0.9))\n",
    "maxi=z_win_fft.max()/40\n",
    "print(maxi)\n",
    "\n",
    "for i in range(int(samples/d_win+0.9)):\n",
    "    ridgeval=0  #max(z_spy_stft[i][:])\n",
    "    if (i==0) or (ridge[i-1]==0):   #find new ridge - a start or lost the ridge\n",
    "        for j in range(int(ridge_d*(2*win_r+1)/(s_rate-0.9))):\n",
    "            j2=j+int((ridge_start)*(2*win_r+1)/(s_rate-0.9))\n",
    "            print(j2)\n",
    "            if ridgeval < z_win_fft[i][j2]:\n",
    "                ridgeval=z_win_fft[i][j2]\n",
    "                ridge[i]= j2\n",
    "    else:\n",
    "        for j in range(int(ridge_d2*(2*win_r+1)/(s_rate-0.9))):\n",
    "            j2=int(j+ridge[i-1]-(ridge_d2/2)*(2*win_r+1)/(s_rate-0.9))\n",
    "            if ridgeval < z_win_fft[i][j2]:\n",
    "                ridgeval=z_win_fft[i][j2]\n",
    "                ridge[i]= j2\n",
    "                #print(j2, z_spy_stft[j2][i])\n",
    "    if ridgeval<(maxi):\n",
    "        ridgeval =0\n",
    "        ridge [i]=0\n",
    "    ridge_h[i]=ridgeval**(1/2)\n",
    "    #print(i, ridge [i])\n",
    "    #print (i,\"  \",ridge[i],\"\\t\", ridgeval,\"\\t\", z_spy_stft[i][int(ridge[i])])\n",
    "\n",
    "ridge=ridge*(s_rate/(2*win_r+1))\n",
    "\n",
    "#proc_x=np.linspace(min(x),max(x),np.size(ridge))\n",
    "ridge[ ridge==0 ] = np.nan\n",
    "plt.figure(figsize=(14,3.5))\n",
    "plt.title(shot+' szonda maximum frekvenciaértékei')\n",
    "plt.plot(np.linspace(min(x),max(x),np.size(ridge)),ridge/1000,'.-')\n",
    "plt.grid(True)\n",
    "#plt.legend(('Kiszámolt', 'Eredeti'))\n",
    "#yaxismax=1/2**(view.value/12)\n",
    "plt.xlim(min(x),max(x))\n",
    "#plt.ylim(ridge_start/1100,)\n",
    "#plt.ylim(0,200)\n",
    "#plt.xlim(0.89,0.91)\n",
    "plt.ylabel('Frekvencia (kHz)')\n",
    "plt.xlabel('idő (s)')\n",
    "#plt.savefig(shot+' f_max.pdf')\n",
    "plt.show()"
   ]
  },
  {
   "cell_type": "code",
   "execution_count": null,
   "metadata": {},
   "outputs": [],
   "source": [
    "logax = np.linspace(int(np.log10(z_win_fft_sq.min())),int(np.log10(z_win_fft_sq.max())),int(np.log10(z_win_fft_sq.max()))-int(np.log10(z_win_fft_sq.min()))+1)\n",
    "logax = 10**logax\n",
    "fig, ax = plt.subplots(figsize=(14,5))\n",
    "#extent=[0,t-(2*hann_r/s_rate),0,frangemax/t],\n",
    "#plt.figure(figsize=(15,10))\n",
    "ax.plot(np.linspace(min(x),max(x),np.size(ridge)),ridge/1000,'.',color='g',alpha=0.6)#,linewidth=3,linestyle='dashed')#img = ax.\n",
    "img = plt.imshow(z_win_fft_sq,cmap='plasma', interpolation='gaussian', aspect='auto', extent=[min(x),max(x),frangemax/1000,0], norm=colornorm)#\n",
    "#plt.title('My Short-time Fourier transform')\n",
    "plt.title(shot+'-es szonda STFT-je, adaptív maximumkereséssel')\n",
    "plt.ylabel('Frekvencia (kHz)')\n",
    "plt.xlabel('idő (s)')#('time (s)')\n",
    "#plt.xlim(0.652,0.66)\n",
    "#plt.ylim(90,40)\n",
    "plt.subplots_adjust(right=0.90)\n",
    "plt.gca().invert_yaxis()\n",
    "cbar=plt.colorbar(img,cax=plt.axes([0.91, 0.2, 0.02, 0.6]),ticks=None)\n",
    "cbar.set_label('Fourier-érték (J)')\n",
    "#plt.axis([2.13,2.15,min(s),20000])\n",
    "cbar.set_ticks(logax)\n",
    "#plt.savefig(shot+' stft_max.pdf')\n",
    "plt.show()"
   ]
  },
  {
   "cell_type": "code",
   "execution_count": null,
   "metadata": {},
   "outputs": [],
   "source": [
    "ridge_h[ ridge_h==0 ] = np.nan\n",
    "print(maxi**(1/2))\n",
    "plt.figure(figsize=(10,3.5))\n",
    "plt.title('Az amplitúdó a maximum frekvenciaértékeknél, '+shot)#, AUGD 34924 J051-es szonda\n",
    "plt.plot(np.linspace(min(x),max(x),np.size(ridge_h)),ridge_h,'-',markersize=1)#,x,3*abs(np.sin(2*np.pi*x))+2,\n",
    "plt.grid(True)\n",
    "plt.xlim(min(x),max(x))\n",
    "#plt.xlim(0.89,0.91)\n",
    "#plt.ylim(maxi**(1/2)/2,max(ridge_h)*1.05)\n",
    "plt.ylabel('Amplitúdó')\n",
    "plt.xlabel('idő (s)')\n",
    "#plt.yscale(\"log\")\n",
    "#plt.savefig(shot+'_amp.pdf')\n",
    "plt.show()"
   ]
  }
 ],
 "metadata": {
  "kernelspec": {
   "display_name": "Python 3",
   "language": "python",
   "name": "python3"
  },
  "language_info": {
   "codemirror_mode": {
    "name": "ipython",
    "version": 3
   },
   "file_extension": ".py",
   "mimetype": "text/x-python",
   "name": "python",
   "nbconvert_exporter": "python",
   "pygments_lexer": "ipython3",
   "version": "3.6.5"
  }
 },
 "nbformat": 4,
 "nbformat_minor": 2
}
