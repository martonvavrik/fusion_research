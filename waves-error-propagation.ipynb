{
 "cells": [
  {
   "cell_type": "code",
   "execution_count": 1,
   "metadata": {},
   "outputs": [
    {
     "name": "stdout",
     "output_type": "stream",
     "text": [
      "Warning: could not read configuration file.\n",
      "INIT flap storage\n"
     ]
    }
   ],
   "source": [
    "import sys\n",
    "import flap\n",
    "\n",
    "sys.path.append(r\"C:\\marci main\\Fusion\\nti-wavelet-tools\\python\\utility\")\n",
    "import convert_dict_to_flap\n",
    "sys.path.append(r\"C:\\marci main\\Fusion\\nti-wavelet-tools\\python\\core\")\n",
    "import core"
   ]
  },
  {
   "cell_type": "code",
   "execution_count": 4,
   "metadata": {},
   "outputs": [
    {
     "name": "stdout",
     "output_type": "stream",
     "text": [
      "C:\\marci main\\fusion\\inputdata\\AUGD_32326_MHA.sav\n"
     ]
    }
   ],
   "source": [
    "path = r\"C:\\marci main\\fusion\\inputdata\\AUGD_32326_MHA.sav\"\n",
    "print(path)\n",
    "\n",
    "data = core.NWTDataObject()\n",
    "data.load_raw_sav(path)"
   ]
  },
  {
   "cell_type": "code",
   "execution_count": 7,
   "metadata": {
    "scrolled": true
   },
   "outputs": [
    {
     "name": "stdout",
     "output_type": "stream",
     "text": [
      "[[-1.2256123  -1.2666433  -1.061512   ...  0.68207264  0.6513053\n",
      "   0.6307938 ]\n",
      " [-0.90766746 -0.8974117  -0.7743345  ...  0.43591818  0.57950693\n",
      "   0.50771654]\n",
      " [-1.061512   -1.2153565  -0.8461329  ...  0.73335946  0.77438253\n",
      "   0.7436152 ]\n",
      " ...\n",
      " [ 0.0506649   0.0311327   0.0152626  ... -0.14343834 -0.15320492\n",
      "  -0.15686703]\n",
      " [ 0.06531429  0.05310631  0.06287289 ... -0.04699707 -0.04699707\n",
      "  -0.05432224]\n",
      " [ 0.2984829   0.2874956   0.2874956  ...  0.09949589  0.09827518\n",
      "   0.08728886]]\n",
      "\n",
      "-----------------------------\n",
      "<1>(data_source:\"\" exp_id:\"AUGD-32326\") data_title:\"raw data\" shape:[24,200001][no error]\n",
      "  Data name:\"unit\", unit:\"a.u.\"\n",
      "  Coords:\n",
      "    'Time [s](Dims:1, Shape:[200001]) [<R. symm.>] Val. range:  8.500E-01 -  9.500E-01\n",
      "    'Channels [a.u.](Dims:0, Shape:[24]) [<R. symm.>] Val:MHA-B31-14, MHA-B31-03, MHA-B31-01, MHA-B31-02, MHA-B31-12, MHA-B31-13, MHA-C04-01, MHA-C09-01_, MHA-B31-11, MHA-B31-10, ...\n",
      "    'Theta [rad](Dims:0, Shape:[24]) [<R. symm.>] Val. range:  9.548E-02 -  6.181E+00\n",
      "    'Phi [rad](Dims:0, Shape:[24]) [<R. symm.>] Val. range:  0.000E+00 -  6.791E+00\n"
     ]
    },
    {
     "data": {
      "text/plain": [
       "'\\n-----------------------------\\n<1>(data_source:\"\" exp_id:\"AUGD-32326\") data_title:\"raw data\" shape:[24,200001][no error]\\n  Data name:\"unit\", unit:\"a.u.\"\\n  Coords:\\n    \\'Time [s](Dims:1, Shape:[200001]) [<R. symm.>] Val. range:  8.500E-01 -  9.500E-01\\n    \\'Channels [a.u.](Dims:0, Shape:[24]) [<R. symm.>] Val:MHA-B31-14, MHA-B31-03, MHA-B31-01, MHA-B31-02, MHA-B31-12, MHA-B31-13, MHA-C04-01, MHA-C09-01_, MHA-B31-11, MHA-B31-10, ...\\n    \\'Theta [rad](Dims:0, Shape:[24]) [<R. symm.>] Val. range:  9.548E-02 -  6.181E+00\\n    \\'Phi [rad](Dims:0, Shape:[24]) [<R. symm.>] Val. range:  0.000E+00 -  6.791E+00'"
      ]
     },
     "execution_count": 7,
     "metadata": {},
     "output_type": "execute_result"
    }
   ],
   "source": [
    "print(data.raw_data.data)\n",
    "flap.list_data_objects(data.raw_data)"
   ]
  },
  {
   "cell_type": "code",
   "execution_count": 8,
   "metadata": {},
   "outputs": [],
   "source": [
    "path2 = r\"C:\\marci main\\fusion\\inputdata\\proba\"\n",
    "data.save(path2)"
   ]
  },
  {
   "cell_type": "code",
   "execution_count": 16,
   "metadata": {},
   "outputs": [
    {
     "name": "stdout",
     "output_type": "stream",
     "text": [
      "\n"
     ]
    },
    {
     "ename": "TypeError",
     "evalue": "'NWTDataObject' object is not iterable",
     "output_type": "error",
     "traceback": [
      "\u001b[1;31m---------------------------------------------------------------------------\u001b[0m",
      "\u001b[1;31mTypeError\u001b[0m                                 Traceback (most recent call last)",
      "\u001b[1;32m<ipython-input-16-cb32b7b73ac5>\u001b[0m in \u001b[0;36m<module>\u001b[1;34m()\u001b[0m\n\u001b[0;32m      3\u001b[0m \u001b[0mdata2\u001b[0m\u001b[1;33m.\u001b[0m\u001b[0msave\u001b[0m\u001b[1;33m(\u001b[0m\u001b[1;34mr\"C:\\marci main\\fusion\\inputdata\\proba2\"\u001b[0m\u001b[1;33m)\u001b[0m\u001b[1;33m\u001b[0m\u001b[0m\n\u001b[0;32m      4\u001b[0m \u001b[0mflap\u001b[0m\u001b[1;33m.\u001b[0m\u001b[0mlist_data_objects\u001b[0m\u001b[1;33m(\u001b[0m\u001b[0mdata2\u001b[0m\u001b[1;33m.\u001b[0m\u001b[0mraw_data\u001b[0m\u001b[1;33m)\u001b[0m\u001b[1;33m\u001b[0m\u001b[0m\n\u001b[1;32m----> 5\u001b[1;33m \u001b[1;32mfor\u001b[0m \u001b[0mi\u001b[0m \u001b[1;32min\u001b[0m \u001b[0mdata2\u001b[0m\u001b[1;33m:\u001b[0m\u001b[1;33m\u001b[0m\u001b[0m\n\u001b[0m\u001b[0;32m      6\u001b[0m     \u001b[0mprint\u001b[0m\u001b[1;33m(\u001b[0m\u001b[0mi\u001b[0m\u001b[1;33m)\u001b[0m\u001b[1;33m\u001b[0m\u001b[0m\n",
      "\u001b[1;31mTypeError\u001b[0m: 'NWTDataObject' object is not iterable"
     ]
    }
   ],
   "source": [
    "data2 = core.NWTDataObject()\n",
    "data2.load(path2)\n",
    "data2.save(r\"C:\\marci main\\fusion\\inputdata\\proba2\")\n",
    "flap.list_data_objects(data2.raw_data)\n",
    "for i in data2:\n",
    "    print(i)"
   ]
  }
 ],
 "metadata": {
  "kernelspec": {
   "display_name": "Python 3",
   "language": "python",
   "name": "python3"
  },
  "language_info": {
   "codemirror_mode": {
    "name": "ipython",
    "version": 3
   },
   "file_extension": ".py",
   "mimetype": "text/x-python",
   "name": "python",
   "nbconvert_exporter": "python",
   "pygments_lexer": "ipython3",
   "version": "3.6.5"
  }
 },
 "nbformat": 4,
 "nbformat_minor": 2
}
