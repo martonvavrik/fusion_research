{
 "cells": [
  {
   "cell_type": "code",
   "execution_count": 1,
   "metadata": {},
   "outputs": [
    {
     "name": "stdout",
     "output_type": "stream",
     "text": [
      "Warning: could not read configuration file.\n",
      "INIT flap storage\n"
     ]
    }
   ],
   "source": [
    "import sys\n",
    "import flap\n",
    "\n",
    "sys.path.append(r\"E:\\marci main\\Fusion\\nti-wavelet-tools\\python\\utility\")\n",
    "import convert_dict_to_flap\n",
    "sys.path.append(r\"E:\\marci main\\Fusion\\nti-wavelet-tools\\python\\core\")\n",
    "import core"
   ]
  },
  {
   "cell_type": "code",
   "execution_count": 7,
   "metadata": {},
   "outputs": [
    {
     "name": "stdout",
     "output_type": "stream",
     "text": [
      "E:\\marci main\\fusion\\inputdata\\AUGD_38088_Loaded-with-MTR_processed_CWT_smoothed.sav\n"
     ]
    }
   ],
   "source": [
    "path = r\"E:\\marci main\\fusion\\inputdata\\AUGD_38088_Loaded-with-MTR_processed_CWT_smoothed.sav\"\n",
    "print(path)\n",
    "\n",
    "data = core.NWTDataObject()\n",
    "data.load_proc_sav(path)"
   ]
  },
  {
   "cell_type": "code",
   "execution_count": 8,
   "metadata": {
    "scrolled": true
   },
   "outputs": [
    {
     "name": "stdout",
     "output_type": "stream",
     "text": [
      "[[ 16.456413    17.769232    18.958973   ...   0.83591723   1.1333586\n",
      "    1.0513043 ]\n",
      " [ -4.7538133   -5.071766    -5.1845875  ...  -0.2512583   -0.43587017\n",
      "   -0.63074577]\n",
      " [ -8.671757    -8.682013    -8.784578   ...  -0.11792531  -0.21023524\n",
      "   -0.23074678]\n",
      " ...\n",
      " [-11.974322   -11.974322   -11.451246   ...  -0.2615141   -0.31279293\n",
      "   -0.2615141 ]\n",
      " [ -3.3339987  -15.077357    -9.139336   ...  -5.954685    -6.18691\n",
      "   -5.921514  ]\n",
      " [ 11.748728    13.912824    15.738462   ...   0.6205381    0.52822816\n",
      "    0.5487397 ]]\n",
      "\n",
      "-----------------------------\n",
      "<1>(data_source:\"\" exp_id:\"AUGD-38088\") data_title:\"raw data\" shape:[8,8001][no error]\n",
      "  Data name:\"unit\", unit:\"a.u.\"\n",
      "  Coords:\n",
      "    'Time [s](Dims:1, Shape:[8001]) [<R. symm.>] Val. range:  1.004E+00 -  1.008E+00\n",
      "    'Channels [a.u.](Dims:0, Shape:[8]) [<R. symm.>] Val:MHI-B31-40, MHI-B31-14, MHI-B31-03, MHI-B31-01, MHI-B31-02, MHI-B31-12, MHI-B31-22, MHI-B31-13\n",
      "    'Theta [rad](Dims:0, Shape:[8]) [<R. symm.>] Val: 6.163E+00,  6.206E+00,  6.201E+00,  6.206E+00,  6.217E+00,  6.204E+00,  6.159E+00,  6.206E+00\n",
      "    'Phi [rad](Dims:0, Shape:[8]) [<R. symm.>] Val: 2.791E+00,  3.596E+00,  4.743E+00,  4.773E+00,  5.184E+00,  5.747E+00,  5.969E+00,  6.753E+00\n"
     ]
    },
    {
     "data": {
      "text/plain": [
       "'\\n-----------------------------\\n<1>(data_source:\"\" exp_id:\"AUGD-38088\") data_title:\"raw data\" shape:[8,8001][no error]\\n  Data name:\"unit\", unit:\"a.u.\"\\n  Coords:\\n    \\'Time [s](Dims:1, Shape:[8001]) [<R. symm.>] Val. range:  1.004E+00 -  1.008E+00\\n    \\'Channels [a.u.](Dims:0, Shape:[8]) [<R. symm.>] Val:MHI-B31-40, MHI-B31-14, MHI-B31-03, MHI-B31-01, MHI-B31-02, MHI-B31-12, MHI-B31-22, MHI-B31-13\\n    \\'Theta [rad](Dims:0, Shape:[8]) [<R. symm.>] Val: 6.163E+00,  6.206E+00,  6.201E+00,  6.206E+00,  6.217E+00,  6.204E+00,  6.159E+00,  6.206E+00\\n    \\'Phi [rad](Dims:0, Shape:[8]) [<R. symm.>] Val: 2.791E+00,  3.596E+00,  4.743E+00,  4.773E+00,  5.184E+00,  5.747E+00,  5.969E+00,  6.753E+00'"
      ]
     },
     "execution_count": 8,
     "metadata": {},
     "output_type": "execute_result"
    }
   ],
   "source": [
    "print(data.raw_data.data)\n",
    "flap.list_data_objects(data.raw_data)"
   ]
  },
  {
   "cell_type": "code",
   "execution_count": 9,
   "metadata": {},
   "outputs": [],
   "source": [
    "path2 = r\"E:\\marci main\\fusion\\inputdata\\proba.pynwt\"\n",
    "data.save(path2)"
   ]
  },
  {
   "cell_type": "code",
   "execution_count": 10,
   "metadata": {},
   "outputs": [
    {
     "name": "stdout",
     "output_type": "stream",
     "text": [
      "\n",
      "-----------------------------\n",
      "<1>(data_source:\"\" exp_id:\"AUGD-38088\") data_title:\"raw data\" shape:[8,8001][no error]\n",
      "  Data name:\"unit\", unit:\"a.u.\"\n",
      "  Coords:\n",
      "    'Time [s](Dims:1, Shape:[8001]) [<R. symm.>] Val. range:  1.004E+00 -  1.008E+00\n",
      "    'Channels [a.u.](Dims:0, Shape:[8]) [<R. symm.>] Val:MHI-B31-40, MHI-B31-14, MHI-B31-03, MHI-B31-01, MHI-B31-02, MHI-B31-12, MHI-B31-22, MHI-B31-13\n",
      "    'Theta [rad](Dims:0, Shape:[8]) [<R. symm.>] Val: 6.163E+00,  6.206E+00,  6.201E+00,  6.206E+00,  6.217E+00,  6.204E+00,  6.159E+00,  6.206E+00\n",
      "    'Phi [rad](Dims:0, Shape:[8]) [<R. symm.>] Val: 2.791E+00,  3.596E+00,  4.743E+00,  4.773E+00,  5.184E+00,  5.747E+00,  5.969E+00,  6.753E+00\n"
     ]
    },
    {
     "data": {
      "text/plain": [
       "'\\n-----------------------------\\n<1>(data_source:\"\" exp_id:\"AUGD-38088\") data_title:\"raw data\" shape:[8,8001][no error]\\n  Data name:\"unit\", unit:\"a.u.\"\\n  Coords:\\n    \\'Time [s](Dims:1, Shape:[8001]) [<R. symm.>] Val. range:  1.004E+00 -  1.008E+00\\n    \\'Channels [a.u.](Dims:0, Shape:[8]) [<R. symm.>] Val:MHI-B31-40, MHI-B31-14, MHI-B31-03, MHI-B31-01, MHI-B31-02, MHI-B31-12, MHI-B31-22, MHI-B31-13\\n    \\'Theta [rad](Dims:0, Shape:[8]) [<R. symm.>] Val: 6.163E+00,  6.206E+00,  6.201E+00,  6.206E+00,  6.217E+00,  6.204E+00,  6.159E+00,  6.206E+00\\n    \\'Phi [rad](Dims:0, Shape:[8]) [<R. symm.>] Val: 2.791E+00,  3.596E+00,  4.743E+00,  4.773E+00,  5.184E+00,  5.747E+00,  5.969E+00,  6.753E+00'"
      ]
     },
     "execution_count": 10,
     "metadata": {},
     "output_type": "execute_result"
    }
   ],
   "source": [
    "data2 = core.NWTDataObject()\n",
    "data2.load(path2)\n",
    "data2.save(r\"E:\\marci main\\fusion\\inputdata\\proba2.pynwt\")\n",
    "flap.list_data_objects(data2.raw_data)"
   ]
  }
 ],
 "metadata": {
  "kernelspec": {
   "display_name": "Python 3",
   "language": "python",
   "name": "python3"
  },
  "language_info": {
   "codemirror_mode": {
    "name": "ipython",
    "version": 3
   },
   "file_extension": ".py",
   "mimetype": "text/x-python",
   "name": "python",
   "nbconvert_exporter": "python",
   "pygments_lexer": "ipython3",
   "version": "3.6.5"
  }
 },
 "nbformat": 4,
 "nbformat_minor": 2
}
