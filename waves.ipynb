{
 "cells": [
  {
   "cell_type": "markdown",
   "metadata": {},
   "source": [
    "# waves\n",
    "Modified for matlab import, with several shots"
   ]
  },
  {
   "cell_type": "code",
   "execution_count": 1,
   "metadata": {},
   "outputs": [],
   "source": [
    "#import math\n",
    "from scipy import io\n",
    "import scipy.signal\n",
    "import matplotlib.pyplot as plt\n",
    "import numpy as np\n",
    "import scipy.fftpack\n",
    "import scipy.integrate\n",
    "import pandas as pd\n",
    "from IPython.display import display\n",
    "import time\n",
    "import matplotlib.colors as colors\n",
    "import random\n",
    "import pandas as pd\n",
    "import glob\n",
    "import os"
   ]
  },
  {
   "cell_type": "markdown",
   "metadata": {},
   "source": [
    "**main variables**\n",
    "<br> f - main frequency (Hz)\n",
    "<br> full_f - the entire time-frequency function (Hz) (\"x\" as x axis)\n",
    "<br> frangemax - x axis length of Fourier-transform, note, that this does not affect Fourier calculation\n",
    "<br> samples - sample points of the first graph\n",
    "<br> s_rate - sample rate (Hz)\n",
    "<br> amp - amplitude of signal\n",
    "<br> randamp - amplitude of noise (random noise)\n",
    "<br> <br> First, we create our signal and noise. In deafult: a sine wave, and a white noise.\n",
    "<br> Or import one in."
   ]
  },
  {
   "cell_type": "code",
   "execution_count": 126,
   "metadata": {},
   "outputs": [
    {
     "name": "stdout",
     "output_type": "stream",
     "text": [
      "Loaded: C:\\Users\\Marci\\Documents\\transientwaves\\imputdata\\in\\AUGD_32335_0-35.sav\n",
      "\n",
      "\n"
     ]
    }
   ],
   "source": [
    "#%%script false\n",
    "path ='C:\\\\Users\\\\Marci\\\\Documents\\\\transientwaves\\\\imputdata\\\\in\\\\'#pc\n",
    "#path ='C:\\\\Users\\\\win10\\\\Downloads\\\\transient-waves\\\\inputdata\\\\in\\\\'#laptop\n",
    "\n",
    "for filename in glob.glob(os.path.join(path, '*.sav')):\n",
    "    sav1 = io.readsav(filename, python_dict = True)\n",
    "    print('Loaded: '+filename)\n",
    "    print('\\n')"
   ]
  },
  {
   "cell_type": "code",
   "execution_count": 170,
   "metadata": {
    "scrolled": false
   },
   "outputs": [
    {
     "name": "stdout",
     "output_type": "stream",
     "text": [
      "\n",
      " [-0.14869261 -0.24100251 -9.26663    ... -0.24100251 -0.23074675\n",
      " -0.22049098]\n",
      "\n",
      " AUGD 32335, MHR-B31-14\n"
     ]
    }
   ],
   "source": [
    "#%%script false\n",
    "\n",
    "shot_i=0\n",
    "#print(sav1)\n",
    "s=np.array(sav1['data'])#[shot_i]\n",
    "x=np.array(sav1['timeax'])\n",
    "#print(\"\\n\", sav1['channels'])\n",
    "print(\"\\n\", s)\n",
    "#print(\"\\n\", sav1['channels'][shot_i])\n",
    "sxr_name=str(sav1['channels'][shot_i])[2:4]+'R'+str(sav1['channels'][shot_i])[5:-1]\n",
    "shot=os.path.basename(filename)[:4]+' '+os.path.basename(filename)[5:10]+', '+sxr_name#str(sav1['channels'][shot_i])[2:-1]\n",
    "print(\"\\n\",shot)\n",
    "\n",
    "\n",
    "#C:\\\\Users\\\\win10\\\\Downloads\\\\transient-waves\\\\inputdata\\\\AUGD_34924_2208_2238_Loaded-with-MTR.sav - nullközepű \n",
    "#AUGD_34924_J051_240_245_Loaded-with-MTR.sav - nem nullközepű SXR\n",
    "#AUGD_28881_Loaded-with-MTR.sav - toroidális mágneses tekercs AUGD_28881_Loaded-with-MTR.sav\n",
    "#C:\\\\Users\\\\Marci\\\\Documents\\\\transientwaves\\\\imputdata\\\\AUGD_34924_2208_2238_Loaded-with-MTR.sav"
   ]
  },
  {
   "cell_type": "code",
   "execution_count": 172,
   "metadata": {},
   "outputs": [
    {
     "name": "stdout",
     "output_type": "stream",
     "text": [
      "2.1\n",
      "1000000.7142862243\n",
      "0\n"
     ]
    },
    {
     "name": "stderr",
     "output_type": "stream",
     "text": [
      "C:\\Users\\Marci\\Anaconda3\\lib\\site-packages\\ipykernel_launcher.py:12: DeprecationWarning: object of type <class 'numpy.float64'> cannot be safely interpreted as an integer.\n",
      "  if sys.path[0] == '':\n"
     ]
    }
   ],
   "source": [
    "#%%script false\n",
    "min_t=1.4#min(x)\n",
    "max_t=2.1#max(x)\n",
    "\n",
    "s = s.astype(float)\n",
    "x = x.astype(float)\n",
    "samples=s.size\n",
    "full_f = np.zeros(samples)\n",
    "t=max(x)-min(x)\n",
    "nyquist=samples/2/t\n",
    "frangemax=nyquist#250000#\n",
    "xf=np.linspace(0.0, frangemax, frangemax*t+1)\n",
    "s_rate=x.size/t\n",
    "\n",
    "t=max_t-min_t\n",
    "min_x=int(s_rate*min_t)\n",
    "max_x=int(s_rate*max_t)\n",
    "samples=max_x-min_x\n",
    "\n",
    "x=x[min_x:max_x]\n",
    "s=s[min_x:max_x]\n",
    "\n",
    "print(max_t)\n",
    "print(nyquist)\n",
    "print(x.size)"
   ]
  },
  {
   "cell_type": "markdown",
   "metadata": {},
   "source": [
    "The widget below controls the wisible range of the chart under it. Note that this is only for visualisation, the program calculates with the whole 0 - t range. The zooming is exponential. Value 0 displays the whole range."
   ]
  },
  {
   "cell_type": "markdown",
   "metadata": {},
   "source": [
    "## Short-time Fourier transform"
   ]
  },
  {
   "cell_type": "code",
   "execution_count": 178,
   "metadata": {
    "scrolled": false
   },
   "outputs": [
    {
     "ename": "ValueError",
     "evalue": "could not broadcast input array from shape (0) into shape (1400001)",
     "output_type": "error",
     "traceback": [
      "\u001b[1;31m---------------------------------------------------------------------------\u001b[0m",
      "\u001b[1;31mValueError\u001b[0m                                Traceback (most recent call last)",
      "\u001b[1;32m<ipython-input-178-f3f854c27017>\u001b[0m in \u001b[0;36m<module>\u001b[1;34m()\u001b[0m\n\u001b[0;32m     13\u001b[0m \u001b[0mz_padded_s\u001b[0m \u001b[1;33m=\u001b[0m \u001b[0mnp\u001b[0m\u001b[1;33m.\u001b[0m\u001b[0mzeros\u001b[0m \u001b[1;33m(\u001b[0m\u001b[0msamples\u001b[0m\u001b[1;33m+\u001b[0m\u001b[1;36m2\u001b[0m\u001b[1;33m*\u001b[0m\u001b[0mwin_r\u001b[0m\u001b[1;33m)\u001b[0m\u001b[1;33m\u001b[0m\u001b[0m\n\u001b[0;32m     14\u001b[0m \u001b[0mz_0\u001b[0m\u001b[1;33m=\u001b[0m\u001b[0mz_padded_s\u001b[0m\u001b[1;33m\u001b[0m\u001b[0m\n\u001b[1;32m---> 15\u001b[1;33m \u001b[0mz_padded_s\u001b[0m\u001b[1;33m[\u001b[0m\u001b[0mwin_r\u001b[0m\u001b[1;33m:\u001b[0m\u001b[1;33m-\u001b[0m\u001b[0mwin_r\u001b[0m\u001b[1;33m]\u001b[0m \u001b[1;33m=\u001b[0m \u001b[0ms\u001b[0m\u001b[1;33m\u001b[0m\u001b[0m\n\u001b[0m\u001b[0;32m     16\u001b[0m \u001b[0mz_padded_s\u001b[0m\u001b[1;33m[\u001b[0m\u001b[1;36m0\u001b[0m\u001b[1;33m:\u001b[0m\u001b[0mwin_r\u001b[0m\u001b[1;33m]\u001b[0m\u001b[1;33m=\u001b[0m\u001b[0mnp\u001b[0m\u001b[1;33m.\u001b[0m\u001b[0maverage\u001b[0m\u001b[1;33m(\u001b[0m\u001b[0mz_padded_s\u001b[0m\u001b[1;33m[\u001b[0m\u001b[0mwin_r\u001b[0m\u001b[1;33m+\u001b[0m\u001b[1;36m1\u001b[0m\u001b[1;33m:\u001b[0m\u001b[1;36m2\u001b[0m\u001b[1;33m*\u001b[0m\u001b[0mwin_r\u001b[0m\u001b[1;33m]\u001b[0m\u001b[1;33m)\u001b[0m\u001b[1;33m\u001b[0m\u001b[0m\n\u001b[0;32m     17\u001b[0m \u001b[0mz_padded_s\u001b[0m\u001b[1;33m[\u001b[0m\u001b[1;33m-\u001b[0m\u001b[0mwin_r\u001b[0m\u001b[1;33m:\u001b[0m\u001b[1;33m]\u001b[0m\u001b[1;33m=\u001b[0m\u001b[0mnp\u001b[0m\u001b[1;33m.\u001b[0m\u001b[0maverage\u001b[0m\u001b[1;33m(\u001b[0m\u001b[0mz_padded_s\u001b[0m\u001b[1;33m[\u001b[0m\u001b[1;33m-\u001b[0m\u001b[1;36m2\u001b[0m\u001b[1;33m*\u001b[0m\u001b[0mwin_r\u001b[0m\u001b[1;33m:\u001b[0m\u001b[1;33m-\u001b[0m\u001b[0mwin_r\u001b[0m\u001b[1;33m-\u001b[0m\u001b[1;36m1\u001b[0m\u001b[1;33m]\u001b[0m\u001b[1;33m)\u001b[0m\u001b[1;33m\u001b[0m\u001b[0m\n",
      "\u001b[1;31mValueError\u001b[0m: could not broadcast input array from shape (0) into shape (1400001)"
     ]
    },
    {
     "data": {
      "image/png": "[encoded data removed]",
      "text/plain": [
       "<Figure size 432x288 with 1 Axes>"
      ]
     },
     "metadata": {},
     "output_type": "display_data"
    }
   ],
   "source": [
    "t0=time.time()\n",
    "win_r = 1000 #1000\n",
    "d_win=500#random.randint(200,300)\n",
    "std=500 #150\n",
    "win_base = scipy.signal.gaussian(2*win_r+1, std=std)#np.wining(2*win_r+1)\n",
    "\n",
    "plt.plot(win_base,\".-\")\n",
    "plt.title('Hann window')\n",
    "plt.xlabel('sample no.')\n",
    "plt.ylabel('Hann value')\n",
    "#plt.show()\n",
    "\n",
    "z_padded_s = np.zeros (samples+2*win_r)\n",
    "z_0=z_padded_s\n",
    "z_padded_s[win_r:-win_r] = s\n",
    "z_padded_s[0:win_r]=np.average(z_padded_s[win_r+1:2*win_r])\n",
    "z_padded_s[-win_r:]=np.average(z_padded_s[-2*win_r:-win_r-1])\n",
    "x_win=np.linspace(0.0, t+(2*win_r/s_rate), samples+2*win_r)\n",
    "\n",
    "plt.figure(figsize=(13,5))\n",
    "plt.plot(z_padded_s,\"-\",linewidth = 2)#x_win,idő (s),max(x_win)\n",
    "plt.xlim((0,samples+2*win_r))\n",
    "plt.title('A kiegészített jel')\n",
    "plt.xlabel('Adatpont')\n",
    "plt.ylabel('Amplitúdó')\n",
    "plt.savefig('sxr2_p.pdf')\n",
    "#plt.show()\n",
    "\n",
    "win = np.zeros((int(samples/d_win+1), 2*win_r+1))\n",
    "for i in range(int(samples/d_win+1)):\n",
    "    win [i]=win_base\n",
    "\n",
    "plt.figure(figsize=(10,5))\n",
    "plt.imshow(win,aspect='auto')\n",
    "plt.title('Sliding Hann window')\n",
    "plt.xlabel('sample no')\n",
    "plt.ylabel('sliding value')\n",
    "#plt.subplots_adjust(right=0.95)\n",
    "cax = plt.axes([0.8, 0.15, 0.03, 0.5])\n",
    "plt.colorbar(cax=cax).set_label('Signal value')\n",
    "#plt.show()\n",
    "\n",
    "z_win = np.zeros((int(samples/d_win+0.9), win_r*2+1))\n",
    "for i in range(int(samples/d_win+0.9)):\n",
    "    if i<1000001:\n",
    "        z_win[i] = win[i] * (z_padded_s [d_win*i:d_win*i+win_r+win_r+1]-np.average(z_padded_s [d_win*i:d_win*i+win_r+win_r+1]))\n",
    "    #z_win[i] = win[i] * (z_padded_s [d_win*i:d_win*i+win_r+win_r+1])\n",
    "\n",
    "plt.figure(figsize=(9,9))\n",
    "plt.imshow(z_win,aspect='auto',cmap='bwr')#, extent=(min_t*s_rate/d_win,max_t*s_rate/d_win,max_t*s_rate,min_t*s_rate)\n",
    "plt.title('Gauss ablak + eredeti jel')\n",
    "plt.xlabel('Adatpont')\n",
    "plt.ylabel('Ablak elcsúsztatása')\n",
    "plt.subplots_adjust(right=0.88)\n",
    "cax = plt.axes([0.90, 0.23, 0.03, 0.54])\n",
    "plt.colorbar(cax=cax).set_label('Amplitúdó')\n",
    "plt.savefig('z_win.pdf')\n",
    "#plt.show()\n",
    "\n",
    "z_win_fft = np.zeros((int(samples/d_win+0.9), win_r*2+1))\n",
    "for i in range(int(samples/d_win+0.9)):\n",
    "    if i % 1000 == 0:\n",
    "        print('a')\n",
    "    if i<1000001:\n",
    "        z_win_fft[i] = np.abs(scipy.fftpack.fft(z_win[i]))  \n",
    "t1=time.time()\n",
    "\n",
    "print(z_win_fft.min()**2)\n",
    "print(z_win_fft.max()**2)\n",
    "print(std)"
   ]
  },
  {
   "cell_type": "code",
   "execution_count": null,
   "metadata": {},
   "outputs": [],
   "source": [
    "z_win_fft_cutted = np.zeros((int(frangemax*(2*win_r+1)/s_rate), int(samples/d_win)))\n",
    "for i in range(int(samples/d_win)):\n",
    "    for j in range(int(frangemax*(2*win_r+1)/s_rate)): #int(frangemax*max(x_hann))\n",
    "        z_win_fft_cutted [j][i] = z_win_fft [i][j]**2\n",
    "\n",
    "        \n",
    "print(z_win_fft.shape)\n",
    "print(z_win_fft_cutted.shape)\n",
    "#print(z_spy_stft.shape)\n",
    "#print(z_spy_stft_cutted.shape)\n",
    "#print(z_win_fft.max()/abs(z_spy_stft.max()))"
   ]
  },
  {
   "cell_type": "code",
   "execution_count": null,
   "metadata": {},
   "outputs": [],
   "source": [
    "##### %%script false\n",
    "colornorm=colors.LogNorm(vmin=z_win_fft_cutted.min()*40000000, vmax=z_win_fft_cutted.max()/10)\n",
    "logax = np.linspace(int(np.log10(z_win_fft_cutted.min())),int(np.log10(z_win_fft_cutted.max())),int(np.log10(z_win_fft_cutted.max()))-int(np.log10(z_win_fft_cutted.min()))+1)\n",
    "logax = 10**logax\n",
    "fig, ax = plt.subplots(figsize=(14,5))\n",
    "#extent=[0,t-(2*win_r/s_rate),0,frangemax/t],\n",
    "#plt.figure(figsize=(15,10))\n",
    "#ax.plot(x,np.abs(full_f),color='g',linewidth=3,linestyle='dashed',alpha=0.6)#img = ax.\n",
    "img = plt.imshow(z_win_fft_cutted,cmap='plasma',  aspect='auto', extent=[min_t,max_t,frangemax/1000,0], norm=colornorm)#interpolation='gaussian',*30000000/4\n",
    "#plt.title('39424-es kisülés, J051-es szonda STFT-je')\n",
    "plt.title(shot+' szonda saját felüláteresztős szűrt STFT-je')\n",
    "#plt.title('AUGD 34924, B31-40-es szonda STFT-je')\n",
    "plt.ylabel('Frekvencia (kHz)')\n",
    "plt.xlabel('idő (s)')#('time (s)')\n",
    "plt.ylim(120,30)\n",
    "#plt.xlim(1.9,2.4)\n",
    "plt.subplots_adjust(right=0.90)\n",
    "plt.gca().invert_yaxis()\n",
    "cbar=plt.colorbar(img,cax=plt.axes([0.91, 0.2, 0.02, 0.6]),ticks=None)\n",
    "cbar.set_label('Fourier-amplitúdó (J)')\n",
    "#plt.axis([2.13,2.15,min(s),20000])\n",
    "#cbar.set_ticks(logax)\n",
    "plt.savefig(shot+' '+str(min_t)+'-'+str(max_t)+' stft.pdf')#34924_40\n",
    "plt.show()"
   ]
  }
 ],
 "metadata": {
  "kernelspec": {
   "display_name": "Python 3",
   "language": "python",
   "name": "python3"
  },
  "language_info": {
   "codemirror_mode": {
    "name": "ipython",
    "version": 3
   },
   "file_extension": ".py",
   "mimetype": "text/x-python",
   "name": "python",
   "nbconvert_exporter": "python",
   "pygments_lexer": "ipython3",
   "version": "3.6.5"
  }
 },
 "nbformat": 4,
 "nbformat_minor": 2
}
