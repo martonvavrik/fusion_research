{
 "cells": [
  {
   "cell_type": "code",
   "execution_count": 2,
   "metadata": {},
   "outputs": [
    {
     "name": "stdout",
     "output_type": "stream",
     "text": [
      "Warning: could not read configuration file.\n",
      "INIT flap storage\n"
     ]
    }
   ],
   "source": [
    "#useful: https://github.com/fusion-flap/flap\n",
    "import sys\n",
    "sys.path.append(r\"E:\\marci main\\Fusion\\flap_module\\flap\")\n",
    "\n",
    "import flap\n",
    "\n",
    "sys.path.append(r\"E:\\marci main\\Fusion\\nti-wavelet-tools\\python\\utility\")\n",
    "import convert_dict_to_flap\n",
    "\n",
    "import glob\n",
    "import os\n",
    "from scipy import io\n",
    "import numpy as np\n",
    "\n",
    "import matplotlib.pyplot as plt\n",
    "from matplotlib.gridspec import GridSpec\n",
    "import os\n",
    "import numpy as np\n",
    "from scipy import signal\n",
    "import copy\n",
    "import time\n",
    "import math\n",
    "\n",
    "import scipy.signal\n",
    "import scipy.fftpack\n",
    "import scipy.integrate\n",
    "import matplotlib.colors as colors"
   ]
  },
  {
   "cell_type": "markdown",
   "metadata": {},
   "source": [
    "## Loading and creating dataobject"
   ]
  },
  {
   "cell_type": "code",
   "execution_count": 2,
   "metadata": {},
   "outputs": [
    {
     "name": "stdout",
     "output_type": "stream",
     "text": [
      "Loaded: E:\\marci main\\Fusion\\inputdata\\in\\AUGD_32326_MHA.sav\n",
      "\n",
      "\n",
      "['expname', 'shotnumber', 'channels', 'data', 'timeax', 'theta', 'phi', 'data_history', 'coord_history']\n",
      "b'Geometrical_Loaded-with-MTR'\n"
     ]
    }
   ],
   "source": [
    "path ='E:\\\\marci main\\\\Fusion\\\\inputdata\\\\in\\\\'#pc\n",
    "#path ='C:\\\\Users\\\\win10\\\\Downloads\\\\transient-waves\\\\inputdata\\\\in\\\\'#laptop\n",
    "\n",
    "for filename in glob.glob(os.path.join(path, '*.sav')):\n",
    "    loaded_sav = io.readsav(filename, python_dict = True)\n",
    "    print('Loaded: '+filename)\n",
    "    print('\\n')\n",
    "\n",
    "    #!!!\n",
    "for i in range(loaded_sav[\"channels\"].size):\n",
    "    tmp = str(loaded_sav[\"channels\"][i])\n",
    "    loaded_sav[\"channels\"][i] = tmp[2:-1]\n",
    "\n",
    "#print(loaded_sav[\"channels\"])\n",
    "\n",
    "print(list(loaded_sav))\n",
    "print(loaded_sav[\"coord_history\"])\n",
    "#print(loaded_sav['theta'].shape"
   ]
  },
  {
   "cell_type": "code",
   "execution_count": 12,
   "metadata": {},
   "outputs": [
    {
     "name": "stdout",
     "output_type": "stream",
     "text": [
      "loaded:E:\\marci main\\Fusion\\saved_flap.flapdata\n"
     ]
    }
   ],
   "source": [
    "path ='E:\\\\marci main\\\\Fusion\\\\saved_flap.flapdata'\n",
    "#path =r'E:\\marci main\\Fusion\\inputdata\\in\\AUGD_32326_MHA.sav'\n",
    "\n",
    "if path[-9:] == \".flapdata\":\n",
    "    flap_object = flap.load(path)\n",
    "    print(\"loaded:\"+path)\n",
    "if path[-4:] == \".sav\":\n",
    "    loaded_sav = io.readsav(path, python_dict=True)\n",
    "    print(\"loaded:\"+path)\n",
    "    flap_object = convert_dict_to_flap.convert_dict_to_flap(loaded_sav)\n",
    "    flap.save(flap_object,filename=\"saved_flap.flapdata\")"
   ]
  },
  {
   "cell_type": "code",
   "execution_count": 16,
   "metadata": {},
   "outputs": [
    {
     "name": "stdout",
     "output_type": "stream",
     "text": [
      "\n",
      "-----------------------------\n",
      "<1>(data_source:\"\" exp_id:\"AUGD 32326\") data_title:\"\" shape:[24,200001][no error]\n",
      "  Data name:\"voltage\", unit:\"volt\"\n",
      "  Coords:\n",
      "    'Time [s](Dims:1]) [<Equ.><R. symm.>] Start:  8.500E-01, Steps:  5.000E-07\n",
      "    'Channels [a.u.](Dims:0, Shape:[24]) [<R. symm.>] Val:b'MHA-B31-14', b'MHA-B31-03', b'MHA-B31-01', b'MHA-B31-02', b'MHA-B31-12', b'MHA-B31-13', b'MHA-C04-01', b'MHA-C09-01_', b'MHA-B31-11', b'MHA-B31-10', ...\n",
      "    'Theta [rad](Dims:0, Shape:[24]) [<R. symm.>] Val. range:  9.548E-02 -  6.181E+00\n",
      "    'Phi [rad](Dims:0, Shape:[24]) [<R. symm.>] Val. range:  0.000E+00 -  6.791E+00\n"
     ]
    },
    {
     "data": {
      "text/plain": [
       "'\\n-----------------------------\\n<1>(data_source:\"\" exp_id:\"AUGD 32326\") data_title:\"\" shape:[24,200001][no error]\\n  Data name:\"voltage\", unit:\"volt\"\\n  Coords:\\n    \\'Time [s](Dims:1]) [<Equ.><R. symm.>] Start:  8.500E-01, Steps:  5.000E-07\\n    \\'Channels [a.u.](Dims:0, Shape:[24]) [<R. symm.>] Val:b\\'MHA-B31-14\\', b\\'MHA-B31-03\\', b\\'MHA-B31-01\\', b\\'MHA-B31-02\\', b\\'MHA-B31-12\\', b\\'MHA-B31-13\\', b\\'MHA-C04-01\\', b\\'MHA-C09-01_\\', b\\'MHA-B31-11\\', b\\'MHA-B31-10\\', ...\\n    \\'Theta [rad](Dims:0, Shape:[24]) [<R. symm.>] Val. range:  9.548E-02 -  6.181E+00\\n    \\'Phi [rad](Dims:0, Shape:[24]) [<R. symm.>] Val. range:  0.000E+00 -  6.791E+00'"
      ]
     },
     "execution_count": 16,
     "metadata": {},
     "output_type": "execute_result"
    }
   ],
   "source": [
    "str(flap.list_data_objects(flap_object))"
   ]
  },
  {
   "cell_type": "code",
   "execution_count": 3,
   "metadata": {},
   "outputs": [
    {
     "data": {
      "image/png": "[encoded data removed]",
      "text/plain": [
       "<Figure size 432x288 with 1 Axes>"
      ]
     },
     "metadata": {},
     "output_type": "display_data"
    },
    {
     "data": {
      "image/png": "[encoded data removed]",
      "text/plain": [
       "<Figure size 432x288 with 1 Axes>"
      ]
     },
     "metadata": {},
     "output_type": "display_data"
    }
   ],
   "source": [
    "slicing_channel = 'MHA-B31-02'\n",
    "sliced_object = flap_object.slice_data(slicing={\"Channels\":slicing_channel}).slice_data(slicing={\"Time\":flap.Intervals(0.88,0.91)})\n",
    "sliced_object.exp_id = sliced_object.exp_id +\" \"+ slicing_channel\n",
    "\n",
    "plt1 =sliced_object.plot()\n",
    "#flap_object.plot(plot_type = 'multi xy')\n",
    "#plt1.ylim(-6,2)\n",
    "#flap.list_data_objects(sliced_object)"
   ]
  },
  {
   "cell_type": "markdown",
   "metadata": {},
   "source": [
    "## Creating spectogram"
   ]
  },
  {
   "cell_type": "code",
   "execution_count": null,
   "metadata": {},
   "outputs": [],
   "source": [
    "min_t=min(sliced_object.coordinate('Time')[0])\n",
    "max_t=max(sliced_object.coordinate('Time')[0])\n",
    "t = max_t-min_t\n",
    "print(t)\n",
    "s=sliced_object.data\n",
    "samples = np.size(sliced_object.data)\n",
    "s_rate=samples/t\n",
    "\n",
    "nyquist=samples/2/t\n",
    "frangemax=nyquist#200#"
   ]
  },
  {
   "cell_type": "code",
   "execution_count": null,
   "metadata": {},
   "outputs": [],
   "source": [
    "win_r = 1500 #1000\n",
    "d_win=35#random.randint(200,300)\n",
    "std=300 #150\n",
    "win_base = scipy.signal.gaussian(2*win_r+1, std=std)#np.wining(2*win_r+1)\n",
    "\n",
    "z_padded_s = np.zeros (samples+2*win_r)\n",
    "z_padded_s[win_r:-win_r] = s\n",
    "z_padded_s[0:win_r]=np.average(z_padded_s[win_r+1:2*win_r])\n",
    "z_padded_s[-win_r:]=np.average(z_padded_s[-2*win_r:-win_r-1])\n",
    "x_win=np.linspace(0.0, t+(2*win_r/s_rate), samples+2*win_r)\n",
    "\n",
    "plt.figure(figsize=(13,5))\n",
    "plt.plot(z_padded_s,\"-\",linewidth = 2)#x_win,idő (s),max(x_win)\n",
    "plt.xlim((0,samples+2*win_r))\n",
    "plt.title('A kiegészített jel')\n",
    "plt.xlabel('Adatpont')\n",
    "plt.ylabel('Amplitúdó')\n",
    "plt.savefig('sxr2_p.pdf')\n",
    "#plt.show()\n",
    "\n",
    "win = np.zeros((int(samples/d_win+1), 2*win_r+1))\n",
    "for i in range(int(samples/d_win+1)):\n",
    "    win [i]=win_base\n",
    "\n",
    "z_win = np.zeros((int(samples/d_win+0.9), win_r*2+1))\n",
    "for i in range(int(samples/d_win+0.9)):\n",
    "    if i<1000001:\n",
    "        z_win[i] = win[i] * (z_padded_s [d_win*i:d_win*i+win_r+win_r+1]-np.average(z_padded_s [d_win*i:d_win*i+win_r+win_r+1]))\n",
    "    #z_win[i] = win[i] * (z_padded_s [d_win*i:d_win*i+win_r+win_r+1])\n",
    "\n",
    "plt.figure(figsize=(9,9))\n",
    "plt.imshow(z_win,aspect='auto',cmap='bwr')#, extent=(min_t*s_rate/d_win,max_t*s_rate/d_win,max_t*s_rate,min_t*s_rate)\n",
    "plt.title('Gauss ablak + eredeti jel')\n",
    "plt.xlabel('Adatpont')\n",
    "plt.ylabel('Ablak elcsúsztatása')\n",
    "plt.subplots_adjust(right=0.88)\n",
    "cax = plt.axes([0.90, 0.23, 0.03, 0.54])\n",
    "plt.colorbar(cax=cax).set_label('Amplitúdó')\n",
    "plt.savefig('z_win.pdf')\n",
    "#plt.show()\n",
    "\n",
    "z_win_fft = np.zeros((int(samples/d_win+0.9), win_r*2+1))\n",
    "for i in range(int(samples/d_win+0.9)):\n",
    "    if i % 1000 == 0:\n",
    "        print('Calculating STFT...')\n",
    "    if i<1000001:\n",
    "        z_win_fft[i] = np.abs(scipy.fftpack.fft(z_win[i]))**2"
   ]
  },
  {
   "cell_type": "markdown",
   "metadata": {},
   "source": [
    "Requested? feature: refer to coodrinate with name (not using a for loop)"
   ]
  },
  {
   "cell_type": "code",
   "execution_count": null,
   "metadata": {},
   "outputs": [],
   "source": [
    "stft_ax=copy.deepcopy(sliced_object.coordinates)\n",
    "\n",
    "for c in stft_ax:\n",
    "    if c.unit.name == 'Time':\n",
    "        c.step = sliced_object.coordinates[0].step[0]*d_win\n",
    "        break\n",
    "\n",
    "stft_ax.append(flap.Coordinate(name=\"Frequency\",\n",
    "                          unit=\"kHz\",\n",
    "                          mode = flap.CoordinateMode(equidistant=True),\n",
    "                          start=0.0,  #,\n",
    "                          step=s_rate/(2*win_r+1)/1000,  #\n",
    "                          dimension_list=[1]\n",
    "                         ))\n",
    "\n",
    "stft_object = flap.DataObject(\n",
    "                      data_array = z_win_fft,\n",
    "                      data_unit = flap.Unit(name= 'Power', unit= 'W'),\n",
    "                      exp_id = str(loaded_sav['expname'])[2:-1],\n",
    "                      coordinates = stft_ax, #[stft_ax[0],stft_ax[-1]],\n",
    "                      data_shape=z_win_fft.shape\n",
    "                     )\n",
    "\n",
    "flap.list_data_objects(stft_object)"
   ]
  },
  {
   "cell_type": "code",
   "execution_count": null,
   "metadata": {},
   "outputs": [],
   "source": [
    "plot = stft_object.slice_data(slicing={\"Frequency\":flap.Intervals(0,100)}).plot(axes = ['Time','Frequency'], plot_type = 'image')"
   ]
  },
  {
   "cell_type": "code",
   "execution_count": null,
   "metadata": {},
   "outputs": [],
   "source": [
    "#%%script false\n",
    "shot = \"\"\n",
    "\n",
    "colornorm=colors.LogNorm(vmin=z_win_fft.min()*40000000, vmax=z_win_fft.max()/10)\n",
    "logax = np.linspace(int(np.log10(z_win_fft.min())),int(np.log10(z_win_fft.max())),int(np.log10(z_win_fft.max()))-int(np.log10(z_win_fft.min()))+1)\n",
    "logax = 10**logax\n",
    "fig, ax = plt.subplots(figsize=(14,9))\n",
    "img = plt.imshow(np.transpose(z_win_fft),cmap='plasma',  aspect='auto', extent=[min_t,max_t,nyquist/1000,0], norm=colornorm)#interpolation='gaussian',*30000000/4\n",
    "#plt.title('39424-es kisülés, J051-es szonda STFT-je')\n",
    "plt.title(shot+' szonda saját felüláteresztős szűrt STFT-je')\n",
    "#plt.title('AUGD 34924, B31-40-es szonda STFT-je')\n",
    "plt.ylabel('Frekvencia (kHz)')\n",
    "plt.xlabel('idő (s)')#('time (s)')\n",
    "plt.ylim(0,60)\n",
    "#plt.xlim(1.9,2.4)\n",
    "plt.subplots_adjust(right=0.90)\n",
    "#plt.gca().invert_yaxis()\n",
    "cbar=plt.colorbar(img,cax=plt.axes([0.91, 0.2, 0.02, 0.6]),ticks=None)\n",
    "cbar.set_label('Fourier-amplitúdó (J)')\n",
    "#cbar.set_ticks(logax)\n",
    "plt.savefig(shot+' '+str(min_t)+'-'+str(max_t)+' stft.pdf')#34924_40\n",
    "plt.show()\n",
    "\n",
    "#change plt to custom plotid"
   ]
  },
  {
   "cell_type": "code",
   "execution_count": null,
   "metadata": {},
   "outputs": [],
   "source": [
    "print(sliced_object.coordinate('Time'))\n",
    "print(stft_object.coordinate('Time'))"
   ]
  },
  {
   "cell_type": "markdown",
   "metadata": {},
   "source": [
    "**Warning/ERROR: plot changes when coordinate start is 0 or 0.0 (int or double)**"
   ]
  },
  {
   "cell_type": "code",
   "execution_count": null,
   "metadata": {},
   "outputs": [],
   "source": [
    "time_dummy = flap.Coordinate(name=\"Time\",\n",
    "                          unit=\"s\",\n",
    "                          mode = flap.CoordinateMode(equidistant=True),\n",
    "                          start=0.0,\n",
    "                          step=0.01,\n",
    "                          #values=np.linspace(1,5,10)\n",
    "                          dimension_list=[0]\n",
    "                         )\n",
    "\n",
    "data_array = np.sin(np.linspace(start=1,stop=10,num=1000))\n",
    "x = np.linspace(start=1,stop=10,num=1000)\n",
    "\n",
    "dummy= flap.DataObject(data_array = data_array,\n",
    "                       data_unit = flap.Unit(name = \"signal\",unit = \"volt\"),#\n",
    "                       coordinates = time_dummy,  #,value_dummy]\n",
    "                       data_shape=data_array.shape\n",
    "                     )\n",
    "\n",
    "dummy.plot(plot_type = 'scatter')\n",
    "plt.plot(x,data_array)"
   ]
  }
 ],
 "metadata": {
  "kernelspec": {
   "display_name": "Python 3",
   "language": "python",
   "name": "python3"
  },
  "language_info": {
   "codemirror_mode": {
    "name": "ipython",
    "version": 3
   },
   "file_extension": ".py",
   "mimetype": "text/x-python",
   "name": "python",
   "nbconvert_exporter": "python",
   "pygments_lexer": "ipython3",
   "version": "3.6.5"
  }
 },
 "nbformat": 4,
 "nbformat_minor": 2
}
