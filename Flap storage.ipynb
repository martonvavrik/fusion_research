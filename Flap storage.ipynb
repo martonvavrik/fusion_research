{
 "cells": [
  {
   "cell_type": "code",
   "execution_count": 1,
   "metadata": {},
   "outputs": [
    {
     "name": "stdout",
     "output_type": "stream",
     "text": [
      "Warning: could not read configuration file.\n",
      "INIT flap storage\n"
     ]
    }
   ],
   "source": [
    "#useful: https://github.com/fusion-flap/flap\n",
    "import sys\n",
    "sys.path.append('E:\\marci main\\Fusion\\flap_module\\flap')\n",
    "\n",
    "import flap\n",
    "\n",
    "\n",
    "import glob\n",
    "import os\n",
    "from scipy import io\n",
    "import numpy as np\n",
    "\n",
    "import matplotlib.pyplot as plt\n",
    "from matplotlib.gridspec import GridSpec\n",
    "import os\n",
    "import numpy as np\n",
    "from scipy import signal\n",
    "import copy\n",
    "import time\n",
    "import math"
   ]
  },
  {
   "cell_type": "code",
   "execution_count": null,
   "metadata": {},
   "outputs": [],
   "source": [
    "#dir(flap)"
   ]
  },
  {
   "cell_type": "code",
   "execution_count": 2,
   "metadata": {},
   "outputs": [
    {
     "name": "stdout",
     "output_type": "stream",
     "text": [
      "Couldn't find program: 'false'\n"
     ]
    }
   ],
   "source": [
    "%%script false\n",
    "import flap.testdata\n",
    "\n",
    "flap.testdata.register()\n",
    "\n",
    "length = 0.01\n",
    "test1 = flap.get_data('TESTDATA', name='TEST-1-1', options={'Signal':'Sin','Length':length}, object_name='TEST-1-1')\n",
    "\n",
    "#flap.list_data_objects('TEST-1-1')\n",
    "#flap.list_data_objects(test1)\n",
    "test1.plot()"
   ]
  },
  {
   "cell_type": "code",
   "execution_count": 3,
   "metadata": {},
   "outputs": [
    {
     "name": "stdout",
     "output_type": "stream",
     "text": [
      "Loaded: E:\\marci main\\Fusion\\inputdata\\in\\AUGD_32326_MHA.sav\n",
      "\n",
      "\n",
      "['MHA-B31-14' 'MHA-B31-03' 'MHA-B31-01' 'MHA-B31-02' 'MHA-B31-12'\n",
      " 'MHA-B31-13' 'MHA-C04-01' 'MHA-C09-01_' 'MHA-B31-11' 'MHA-B31-10'\n",
      " 'MHA-B31-09' 'MHA-B31-08' 'MHA-B31-07' 'MHA-B31-06' 'MHA-B31-05'\n",
      " 'MHA-B31-30' 'MHA-C39-01' 'MHA-C09-26' 'MHA-C09-01' 'MHA-C09-02'\n",
      " 'MHA-C09-03' 'MHA-C09-04' 'MHA-C09-05' 'MHA-C09-06']\n"
     ]
    }
   ],
   "source": [
    "path ='E:\\\\marci main\\\\Fusion\\\\inputdata\\\\in\\\\'#pc\n",
    "#path ='C:\\\\Users\\\\win10\\\\Downloads\\\\transient-waves\\\\inputdata\\\\in\\\\'#laptop\n",
    "\n",
    "for filename in glob.glob(os.path.join(path, '*.sav')):\n",
    "    loaded_sav = io.readsav(filename, python_dict = True)\n",
    "    print('Loaded: '+filename)\n",
    "    print('\\n')\n",
    "    \n",
    "for i in range(loaded_sav[\"channels\"].size):\n",
    "    tmp = str(loaded_sav[\"channels\"][i])\n",
    "    loaded_sav[\"channels\"][i] = tmp[2:-1]\n",
    "\n",
    "print(loaded_sav[\"channels\"])"
   ]
  },
  {
   "cell_type": "code",
   "execution_count": 4,
   "metadata": {},
   "outputs": [
    {
     "name": "stdout",
     "output_type": "stream",
     "text": [
      "['expname', 'shotnumber', 'channels', 'data', 'timeax', 'theta', 'phi', 'data_history', 'coord_history']\n",
      "['MHA-B31-14' 'MHA-B31-03' 'MHA-B31-01' 'MHA-B31-02' 'MHA-B31-12'\n",
      " 'MHA-B31-13' 'MHA-C04-01' 'MHA-C09-01_' 'MHA-B31-11' 'MHA-B31-10'\n",
      " 'MHA-B31-09' 'MHA-B31-08' 'MHA-B31-07' 'MHA-B31-06' 'MHA-B31-05'\n",
      " 'MHA-B31-30' 'MHA-C39-01' 'MHA-C09-26' 'MHA-C09-01' 'MHA-C09-02'\n",
      " 'MHA-C09-03' 'MHA-C09-04' 'MHA-C09-05' 'MHA-C09-06']\n",
      "(24, 200001)\n"
     ]
    }
   ],
   "source": [
    "#%%script false\n",
    "print(list(loaded_sav))\n",
    "print(loaded_sav[\"channels\"])\n",
    "print(loaded_sav['data'].shape)"
   ]
  },
  {
   "cell_type": "code",
   "execution_count": 5,
   "metadata": {},
   "outputs": [
    {
     "name": "stdout",
     "output_type": "stream",
     "text": [
      "[0.85      0.8500005 0.850001  ... 0.949999  0.9499995 0.95     ]\n",
      "<flap.coordinate.Coordinate object at 0x00000274ED6AE4A8>\n",
      "Time\n",
      "0.85\n"
     ]
    }
   ],
   "source": [
    "print(loaded_sav[\"timeax\"])\n",
    "time_ax = flap.Coordinate(name=\"Time\",\n",
    "                          unit=\"s\",\n",
    "                          mode = flap.CoordinateMode(equidistant=True),\n",
    "                          start=0.85,  #loaded_sav[\"timeax\"][0],\n",
    "                          step=0.000005,  #loaded_sav[\"timeax\"][1]-loaded_sav[\"timeax\"][0],\n",
    "                          #values=loaded_sav[\"timeax\"]\n",
    "                          dimension_list=[1]\n",
    "                         )#\n",
    "#time_ax.name = \"Time\"\n",
    "#time_ax.unit = \"s\"\n",
    "#time_ax.values = sav1[\"timeax\"]\n",
    "\n",
    "print(time_ax)\n",
    "print(time_ax.unit.name)\n",
    "print(time_ax.start)"
   ]
  },
  {
   "cell_type": "code",
   "execution_count": 22,
   "metadata": {},
   "outputs": [
    {
     "name": "stdout",
     "output_type": "stream",
     "text": [
      "['MHA-B31-14' 'MHA-B31-03' 'MHA-B31-01' 'MHA-B31-02' 'MHA-B31-12'\n",
      " 'MHA-B31-13' 'MHA-C04-01' 'MHA-C09-01_' 'MHA-B31-11' 'MHA-B31-10'\n",
      " 'MHA-B31-09' 'MHA-B31-08' 'MHA-B31-07' 'MHA-B31-06' 'MHA-B31-05'\n",
      " 'MHA-B31-30' 'MHA-C39-01' 'MHA-C09-26' 'MHA-C09-01' 'MHA-C09-02'\n",
      " 'MHA-C09-03' 'MHA-C09-04' 'MHA-C09-05' 'MHA-C09-06']\n"
     ]
    }
   ],
   "source": [
    "channel_name = flap.Coordinate(name=\"Channels\",\n",
    "                          unit=None,\n",
    "                          mode = flap.CoordinateMode(equidistant=False),\n",
    "                          values=loaded_sav[\"channels\"],\n",
    "                          dimension_list=[0],\n",
    "                          shape = len(loaded_sav[\"channels\"])\n",
    "                         )\n",
    "\n",
    "channel_no = flap.Coordinate(name=\"Channel_no\",\n",
    "                          unit=\"no\",\n",
    "                          mode = flap.CoordinateMode(equidistant=True),\n",
    "                          start=1,\n",
    "                          step=1,\n",
    "                          dimension_list=[0]\n",
    "                         )\n",
    "print(channel_name.values)"
   ]
  },
  {
   "cell_type": "code",
   "execution_count": 23,
   "metadata": {},
   "outputs": [],
   "source": [
    "flap_object= flap.DataObject(\n",
    "                      data_array = loaded_sav['data'],\n",
    "                      data_unit = flap.Unit(name= 'voltage', unit= 'volt'),\n",
    "                      exp_id = str(loaded_sav['expname'])[2:-1],\n",
    "                      coordinates = [time_ax,channel_name,channel_no],\n",
    "                      data_shape=loaded_sav['data'].shape\n",
    "                     )"
   ]
  },
  {
   "cell_type": "code",
   "execution_count": 36,
   "metadata": {},
   "outputs": [
    {
     "data": {
      "text/plain": [
       "(array([[ 1,  1,  1, ...,  1,  1,  1],\n",
       "        [ 2,  2,  2, ...,  2,  2,  2],\n",
       "        [ 3,  3,  3, ...,  3,  3,  3],\n",
       "        ...,\n",
       "        [22, 22, 22, ..., 22, 22, 22],\n",
       "        [23, 23, 23, ..., 23, 23, 23],\n",
       "        [24, 24, 24, ..., 24, 24, 24]]), None, None)"
      ]
     },
     "execution_count": 36,
     "metadata": {},
     "output_type": "execute_result"
    }
   ],
   "source": [
    "#type(flap_object.coordinate('Channel_no')[0][0,0])\n",
    "flap_object.coordinate('Channel_no')"
   ]
  },
  {
   "cell_type": "code",
   "execution_count": 24,
   "metadata": {},
   "outputs": [
    {
     "data": {
      "text/plain": [
       "True"
      ]
     },
     "execution_count": 24,
     "metadata": {},
     "output_type": "execute_result"
    }
   ],
   "source": [
    "flap_object.get_coordinate_object(\"Channels\").non_interpol(loaded_sav['data'].shape)"
   ]
  },
  {
   "cell_type": "code",
   "execution_count": 14,
   "metadata": {},
   "outputs": [
    {
     "data": {
      "text/plain": [
       "(200001, 24)"
      ]
     },
     "execution_count": 14,
     "metadata": {},
     "output_type": "execute_result"
    }
   ],
   "source": [
    "np.transpose(loaded_sav['data']).shape"
   ]
  },
  {
   "cell_type": "code",
   "execution_count": 33,
   "metadata": {},
   "outputs": [],
   "source": [
    "new_dataobject = flap_object.slice_data(slicing={\"Channel_no\":int(3)}).slice_data(slicing={\"Time\":flap.Intervals(1.2,1.4)})\n",
    "#short_dataobject = new_dataobject.slice_data(slicing={\"Time\":flap.Intervals(1.2,1.4)})"
   ]
  },
  {
   "cell_type": "code",
   "execution_count": 34,
   "metadata": {},
   "outputs": [
    {
     "data": {
      "image/png": "[encoded data removed]",
      "text/plain": [
       "<Figure size 432x288 with 1 Axes>"
      ]
     },
     "metadata": {},
     "output_type": "display_data"
    },
    {
     "data": {
      "text/plain": [
       "<flap.plot.PlotID at 0x274f01abb38>"
      ]
     },
     "execution_count": 34,
     "metadata": {},
     "output_type": "execute_result"
    },
    {
     "data": {
      "image/png": "[encoded data removed]",
      "text/plain": [
       "<Figure size 432x288 with 1 Axes>"
      ]
     },
     "metadata": {},
     "output_type": "display_data"
    }
   ],
   "source": [
    "new_dataobject.plot()"
   ]
  },
  {
   "cell_type": "code",
   "execution_count": null,
   "metadata": {},
   "outputs": [],
   "source": [
    "flap_object.plot(plot_type = 'multi xy')\n",
    "flap_object.plot(plot_type = 'image')\n",
    "flap_object.plot(plot_type = 'contour')"
   ]
  },
  {
   "cell_type": "code",
   "execution_count": null,
   "metadata": {},
   "outputs": [],
   "source": [
    "flap.slice_data(flap_object, slicing={'Channels': 'MHA-C09-04'}, \n",
    "                options = {'Slice type': 'Simple'})"
   ]
  },
  {
   "cell_type": "code",
   "execution_count": null,
   "metadata": {},
   "outputs": [],
   "source": [
    "flap.slice_data(flap_object, slicing={'Channel_no': 1}, \n",
    "                options = {'Slice type': 'Simple'})"
   ]
  },
  {
   "cell_type": "code",
   "execution_count": null,
   "metadata": {},
   "outputs": [],
   "source": [
    "flap.list_data_objects()"
   ]
  },
  {
   "cell_type": "code",
   "execution_count": null,
   "metadata": {},
   "outputs": [],
   "source": [
    "time_dummy = flap.Coordinate(name=\"Time\",\n",
    "                          unit=\"s\",\n",
    "                          mode = flap.CoordinateMode(equidistant=True),\n",
    "                          start=0,\n",
    "                          step=1,\n",
    "                          #values=np.linspace(1,5,10)\n",
    "                          dimension_list=[0]\n",
    "                         )\n",
    "\n",
    "#value_dummy = flap.Coordinate(name=\"Signal\",\n",
    "#                          unit=\"V\",\n",
    "#                          mode = flap.CoordinateMode(equidistant=True),\n",
    "#                          start=0,\n",
    "#                          step=1,\n",
    "#                          #values=np.linspace(1,5,10)\n",
    "#                         )\n",
    "\n",
    "dummy= flap.DataObject(data_array = np.linspace(1,5,10)**2,\n",
    "                       data_unit = flap.Unit(name = \"signal\",unit = \"volt\"),#\n",
    "                       coordinates = time_dummy,  #,value_dummy]\n",
    "                     )\n",
    "\n",
    "dummy.plot()#plot_type = 'scatter'\n",
    "#plot_2 = flap.plot('dummy',slicing={'Time':[1,3]})"
   ]
  },
  {
   "cell_type": "code",
   "execution_count": null,
   "metadata": {},
   "outputs": [],
   "source": [
    "%%script false\n",
    "\n",
    "Használtunk fent egy flap.testdata.register()-t, és utána működött minden.\n",
    "\n",
    "def register(data_source=None):\n",
    "    if (data_source is None):\n",
    "        data_source = 'TESTDATA'\n",
    "    flap.register_data_source('TESTDATA',\n",
    "                          get_data_func=testdata_get_data,\n",
    "                          add_coord_func=add_coordinate)\n",
    "    \n",
    "User manual:\n",
    "Writing a data source module\n",
    "A data source module differs from a normal Python module in the in that it can provide a\n",
    "few functions for the FLAP framework.\n",
    "\n",
    "Ez nekünk egyenlőre nem feltétlenül kell, mert nem kívülről a flap-be akarunk bevinni dolgokat,\n",
    "hanem kívülről kívülre(nti wavelet), csak épp eközban flap-be legyen. De fontos: \n"
   ]
  }
 ],
 "metadata": {
  "kernelspec": {
   "display_name": "Python 3",
   "language": "python",
   "name": "python3"
  },
  "language_info": {
   "codemirror_mode": {
    "name": "ipython",
    "version": 3
   },
   "file_extension": ".py",
   "mimetype": "text/x-python",
   "name": "python",
   "nbconvert_exporter": "python",
   "pygments_lexer": "ipython3",
   "version": "3.6.5"
  }
 },
 "nbformat": 4,
 "nbformat_minor": 2
}
