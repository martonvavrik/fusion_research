{
 "cells": [
  {
   "cell_type": "code",
   "execution_count": 7,
   "metadata": {},
   "outputs": [],
   "source": [
    "import sys\n",
    "import flap\n",
    "sys.path.append(r\"C:\\marci main\\Fusion\\nti-wavelet-tools\\python\\utility\")\n",
    "import convert_dict_to_flap\n",
    "sys.path.append(r\"C:\\marci main\\Fusion\\nti-wavelet-tools\\python\\core\")\n",
    "import core\n",
    "\n",
    "import os\n",
    "from scipy import io\n",
    "import numpy as np\n",
    "import matplotlib.pyplot as plt\n",
    "\n",
    "sav_path = \"C:\\\\marci main\\\\fusion\\\\inputdata\\\\AUGD_32326_MHA.sav\"\n",
    "sav_proc_path = \"C:\\\\marci main\\\\fusion\\\\inputdata\"\n",
    "path = \"C:\\\\marci main\\\\fusion\\\\inputdata\"\n"
   ]
  },
  {
   "cell_type": "code",
   "execution_count": 8,
   "metadata": {},
   "outputs": [],
   "source": [
    "loaded_sav = io.readsav(sav_path, python_dict = True)"
   ]
  },
  {
   "cell_type": "code",
   "execution_count": 9,
   "metadata": {
    "scrolled": true
   },
   "outputs": [
    {
     "name": "stdout",
     "output_type": "stream",
     "text": [
      "\n",
      "-----------------------------\n",
      "<1>(data_source:\"\" exp_id:\"AUGD 32326\") data_title:\"\" shape:[24,200001][no error]\n",
      "  Data name:\"voltage\", unit:\"volt\"\n",
      "  Coords:\n",
      "    'Time [s](Dims:1]) [<Equ.><R. symm.>] Start:  8.500E-01, Steps:  5.000E-07\n",
      "    'Channels [a.u.](Dims:0, Shape:[24]) [<R. symm.>] Val:MHA-B31-14, MHA-B31-03, MHA-B31-01, MHA-B31-02, MHA-B31-12, MHA-B31-13, MHA-C04-01, MHA-C09-01_, MHA-B31-11, MHA-B31-10, ...\n",
      "    'Theta [rad](Dims:0, Shape:[24]) [<R. symm.>] Val. range:  9.548E-02 -  6.181E+00\n",
      "    'Phi [rad](Dims:0, Shape:[24]) [<R. symm.>] Val. range:  0.000E+00 -  6.791E+00\n"
     ]
    },
    {
     "data": {
      "text/plain": [
       "'\\n-----------------------------\\n<1>(data_source:\"\" exp_id:\"AUGD 32326\") data_title:\"\" shape:[24,200001][no error]\\n  Data name:\"voltage\", unit:\"volt\"\\n  Coords:\\n    \\'Time [s](Dims:1]) [<Equ.><R. symm.>] Start:  8.500E-01, Steps:  5.000E-07\\n    \\'Channels [a.u.](Dims:0, Shape:[24]) [<R. symm.>] Val:MHA-B31-14, MHA-B31-03, MHA-B31-01, MHA-B31-02, MHA-B31-12, MHA-B31-13, MHA-C04-01, MHA-C09-01_, MHA-B31-11, MHA-B31-10, ...\\n    \\'Theta [rad](Dims:0, Shape:[24]) [<R. symm.>] Val. range:  9.548E-02 -  6.181E+00\\n    \\'Phi [rad](Dims:0, Shape:[24]) [<R. symm.>] Val. range:  0.000E+00 -  6.791E+00'"
      ]
     },
     "execution_count": 9,
     "metadata": {},
     "output_type": "execute_result"
    }
   ],
   "source": [
    "data1 = convert_dict_to_flap.convert_raw_sav(loaded_sav)\n",
    "flap.list_data_objects(data1)"
   ]
  },
  {
   "cell_type": "code",
   "execution_count": 10,
   "metadata": {},
   "outputs": [
    {
     "ename": "AttributeError",
     "evalue": "module 'convert_dict_to_flap' has no attribute 'convert_raw_sav_og'",
     "output_type": "error",
     "traceback": [
      "\u001b[1;31m---------------------------------------------------------------------------\u001b[0m",
      "\u001b[1;31mAttributeError\u001b[0m                            Traceback (most recent call last)",
      "\u001b[1;32m<ipython-input-10-d1d18457f796>\u001b[0m in \u001b[0;36m<module>\u001b[1;34m()\u001b[0m\n\u001b[1;32m----> 1\u001b[1;33m \u001b[0mdata2\u001b[0m \u001b[1;33m=\u001b[0m \u001b[0mconvert_dict_to_flap\u001b[0m\u001b[1;33m.\u001b[0m\u001b[0mconvert_raw_sav_og\u001b[0m\u001b[1;33m(\u001b[0m\u001b[0mloaded_sav\u001b[0m\u001b[1;33m)\u001b[0m\u001b[1;33m\u001b[0m\u001b[0m\n\u001b[0m\u001b[0;32m      2\u001b[0m \u001b[0mflap\u001b[0m\u001b[1;33m.\u001b[0m\u001b[0mlist_data_objects\u001b[0m\u001b[1;33m(\u001b[0m\u001b[0mdata2\u001b[0m\u001b[1;33m)\u001b[0m\u001b[1;33m\u001b[0m\u001b[0m\n",
      "\u001b[1;31mAttributeError\u001b[0m: module 'convert_dict_to_flap' has no attribute 'convert_raw_sav_og'"
     ]
    }
   ],
   "source": [
    "data2 = convert_dict_to_flap.convert_raw_sav_og(loaded_sav)\n",
    "flap.list_data_objects(data2)"
   ]
  },
  {
   "cell_type": "code",
   "execution_count": null,
   "metadata": {},
   "outputs": [],
   "source": []
  }
 ],
 "metadata": {
  "kernelspec": {
   "display_name": "Python 3",
   "language": "python",
   "name": "python3"
  },
  "language_info": {
   "codemirror_mode": {
    "name": "ipython",
    "version": 3
   },
   "file_extension": ".py",
   "mimetype": "text/x-python",
   "name": "python",
   "nbconvert_exporter": "python",
   "pygments_lexer": "ipython3",
   "version": "3.6.5"
  }
 },
 "nbformat": 4,
 "nbformat_minor": 2
}
